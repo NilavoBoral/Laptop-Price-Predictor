{
 "cells": [
  {
   "cell_type": "code",
   "execution_count": 66,
   "metadata": {},
   "outputs": [],
   "source": [
    "import numpy as np\n",
    "import pandas as pd\n",
    "import matplotlib.pyplot as plt"
   ]
  },
  {
   "cell_type": "code",
   "execution_count": 67,
   "metadata": {},
   "outputs": [
    {
     "data": {
      "text/html": [
       "<div>\n",
       "<style scoped>\n",
       "    .dataframe tbody tr th:only-of-type {\n",
       "        vertical-align: middle;\n",
       "    }\n",
       "\n",
       "    .dataframe tbody tr th {\n",
       "        vertical-align: top;\n",
       "    }\n",
       "\n",
       "    .dataframe thead th {\n",
       "        text-align: right;\n",
       "    }\n",
       "</style>\n",
       "<table border=\"1\" class=\"dataframe\">\n",
       "  <thead>\n",
       "    <tr style=\"text-align: right;\">\n",
       "      <th></th>\n",
       "      <th>Company</th>\n",
       "      <th>TypeName</th>\n",
       "      <th>Cpu</th>\n",
       "      <th>Ram</th>\n",
       "      <th>Weight</th>\n",
       "      <th>Price</th>\n",
       "      <th>Touchscreen</th>\n",
       "      <th>IPS</th>\n",
       "      <th>ppi</th>\n",
       "      <th>HDD</th>\n",
       "      <th>SSD</th>\n",
       "      <th>Gpu brand</th>\n",
       "      <th>OS</th>\n",
       "    </tr>\n",
       "  </thead>\n",
       "  <tbody>\n",
       "    <tr>\n",
       "      <th>0</th>\n",
       "      <td>Apple</td>\n",
       "      <td>Ultrabook</td>\n",
       "      <td>Intel Core i5</td>\n",
       "      <td>8</td>\n",
       "      <td>1.37</td>\n",
       "      <td>71378.6832</td>\n",
       "      <td>No</td>\n",
       "      <td>Yes</td>\n",
       "      <td>226.983005</td>\n",
       "      <td>0</td>\n",
       "      <td>128</td>\n",
       "      <td>Intel</td>\n",
       "      <td>Mac</td>\n",
       "    </tr>\n",
       "    <tr>\n",
       "      <th>1</th>\n",
       "      <td>Apple</td>\n",
       "      <td>Ultrabook</td>\n",
       "      <td>Intel Core i5</td>\n",
       "      <td>8</td>\n",
       "      <td>1.34</td>\n",
       "      <td>47895.5232</td>\n",
       "      <td>No</td>\n",
       "      <td>No</td>\n",
       "      <td>127.677940</td>\n",
       "      <td>0</td>\n",
       "      <td>0</td>\n",
       "      <td>Intel</td>\n",
       "      <td>Mac</td>\n",
       "    </tr>\n",
       "    <tr>\n",
       "      <th>2</th>\n",
       "      <td>HP</td>\n",
       "      <td>Notebook</td>\n",
       "      <td>Intel Core i5</td>\n",
       "      <td>8</td>\n",
       "      <td>1.86</td>\n",
       "      <td>30636.0000</td>\n",
       "      <td>No</td>\n",
       "      <td>No</td>\n",
       "      <td>141.211998</td>\n",
       "      <td>0</td>\n",
       "      <td>256</td>\n",
       "      <td>Intel</td>\n",
       "      <td>Other OS</td>\n",
       "    </tr>\n",
       "  </tbody>\n",
       "</table>\n",
       "</div>"
      ],
      "text/plain": [
       "  Company   TypeName            Cpu  Ram  Weight       Price Touchscreen  IPS  \\\n",
       "0   Apple  Ultrabook  Intel Core i5    8    1.37  71378.6832          No  Yes   \n",
       "1   Apple  Ultrabook  Intel Core i5    8    1.34  47895.5232          No   No   \n",
       "2      HP   Notebook  Intel Core i5    8    1.86  30636.0000          No   No   \n",
       "\n",
       "          ppi  HDD  SSD Gpu brand        OS  \n",
       "0  226.983005    0  128     Intel       Mac  \n",
       "1  127.677940    0    0     Intel       Mac  \n",
       "2  141.211998    0  256     Intel  Other OS  "
      ]
     },
     "execution_count": 67,
     "metadata": {},
     "output_type": "execute_result"
    }
   ],
   "source": [
    "laptop = pd.read_csv('laptop_preprocessed.csv')\n",
    "laptop.head(3)"
   ]
  },
  {
   "cell_type": "code",
   "execution_count": 68,
   "metadata": {},
   "outputs": [],
   "source": [
    "x = laptop.drop(columns=['Price'])\n",
    "y = np.log(laptop.Price)"
   ]
  },
  {
   "cell_type": "code",
   "execution_count": 69,
   "metadata": {},
   "outputs": [
    {
     "data": {
      "text/html": [
       "<div>\n",
       "<style scoped>\n",
       "    .dataframe tbody tr th:only-of-type {\n",
       "        vertical-align: middle;\n",
       "    }\n",
       "\n",
       "    .dataframe tbody tr th {\n",
       "        vertical-align: top;\n",
       "    }\n",
       "\n",
       "    .dataframe thead th {\n",
       "        text-align: right;\n",
       "    }\n",
       "</style>\n",
       "<table border=\"1\" class=\"dataframe\">\n",
       "  <thead>\n",
       "    <tr style=\"text-align: right;\">\n",
       "      <th></th>\n",
       "      <th>Company</th>\n",
       "      <th>TypeName</th>\n",
       "      <th>Cpu</th>\n",
       "      <th>Ram</th>\n",
       "      <th>Weight</th>\n",
       "      <th>Touchscreen</th>\n",
       "      <th>IPS</th>\n",
       "      <th>ppi</th>\n",
       "      <th>HDD</th>\n",
       "      <th>SSD</th>\n",
       "      <th>Gpu brand</th>\n",
       "      <th>OS</th>\n",
       "    </tr>\n",
       "  </thead>\n",
       "  <tbody>\n",
       "    <tr>\n",
       "      <th>0</th>\n",
       "      <td>Apple</td>\n",
       "      <td>Ultrabook</td>\n",
       "      <td>Intel Core i5</td>\n",
       "      <td>8</td>\n",
       "      <td>1.37</td>\n",
       "      <td>No</td>\n",
       "      <td>Yes</td>\n",
       "      <td>226.983005</td>\n",
       "      <td>0</td>\n",
       "      <td>128</td>\n",
       "      <td>Intel</td>\n",
       "      <td>Mac</td>\n",
       "    </tr>\n",
       "    <tr>\n",
       "      <th>1</th>\n",
       "      <td>Apple</td>\n",
       "      <td>Ultrabook</td>\n",
       "      <td>Intel Core i5</td>\n",
       "      <td>8</td>\n",
       "      <td>1.34</td>\n",
       "      <td>No</td>\n",
       "      <td>No</td>\n",
       "      <td>127.677940</td>\n",
       "      <td>0</td>\n",
       "      <td>0</td>\n",
       "      <td>Intel</td>\n",
       "      <td>Mac</td>\n",
       "    </tr>\n",
       "    <tr>\n",
       "      <th>2</th>\n",
       "      <td>HP</td>\n",
       "      <td>Notebook</td>\n",
       "      <td>Intel Core i5</td>\n",
       "      <td>8</td>\n",
       "      <td>1.86</td>\n",
       "      <td>No</td>\n",
       "      <td>No</td>\n",
       "      <td>141.211998</td>\n",
       "      <td>0</td>\n",
       "      <td>256</td>\n",
       "      <td>Intel</td>\n",
       "      <td>Other OS</td>\n",
       "    </tr>\n",
       "    <tr>\n",
       "      <th>3</th>\n",
       "      <td>Apple</td>\n",
       "      <td>Ultrabook</td>\n",
       "      <td>Intel Core i7</td>\n",
       "      <td>16</td>\n",
       "      <td>1.83</td>\n",
       "      <td>No</td>\n",
       "      <td>Yes</td>\n",
       "      <td>220.534624</td>\n",
       "      <td>0</td>\n",
       "      <td>512</td>\n",
       "      <td>AMD</td>\n",
       "      <td>Mac</td>\n",
       "    </tr>\n",
       "    <tr>\n",
       "      <th>4</th>\n",
       "      <td>Apple</td>\n",
       "      <td>Ultrabook</td>\n",
       "      <td>Intel Core i5</td>\n",
       "      <td>8</td>\n",
       "      <td>1.37</td>\n",
       "      <td>No</td>\n",
       "      <td>Yes</td>\n",
       "      <td>226.983005</td>\n",
       "      <td>0</td>\n",
       "      <td>256</td>\n",
       "      <td>Intel</td>\n",
       "      <td>Mac</td>\n",
       "    </tr>\n",
       "    <tr>\n",
       "      <th>...</th>\n",
       "      <td>...</td>\n",
       "      <td>...</td>\n",
       "      <td>...</td>\n",
       "      <td>...</td>\n",
       "      <td>...</td>\n",
       "      <td>...</td>\n",
       "      <td>...</td>\n",
       "      <td>...</td>\n",
       "      <td>...</td>\n",
       "      <td>...</td>\n",
       "      <td>...</td>\n",
       "      <td>...</td>\n",
       "    </tr>\n",
       "    <tr>\n",
       "      <th>1297</th>\n",
       "      <td>Lenovo</td>\n",
       "      <td>2 in 1 Convertible</td>\n",
       "      <td>Intel Core i7</td>\n",
       "      <td>4</td>\n",
       "      <td>1.80</td>\n",
       "      <td>Yes</td>\n",
       "      <td>Yes</td>\n",
       "      <td>157.350512</td>\n",
       "      <td>0</td>\n",
       "      <td>128</td>\n",
       "      <td>Intel</td>\n",
       "      <td>Windows</td>\n",
       "    </tr>\n",
       "    <tr>\n",
       "      <th>1298</th>\n",
       "      <td>Lenovo</td>\n",
       "      <td>2 in 1 Convertible</td>\n",
       "      <td>Intel Core i7</td>\n",
       "      <td>16</td>\n",
       "      <td>1.30</td>\n",
       "      <td>Yes</td>\n",
       "      <td>Yes</td>\n",
       "      <td>276.053530</td>\n",
       "      <td>0</td>\n",
       "      <td>512</td>\n",
       "      <td>Intel</td>\n",
       "      <td>Windows</td>\n",
       "    </tr>\n",
       "    <tr>\n",
       "      <th>1299</th>\n",
       "      <td>Lenovo</td>\n",
       "      <td>Notebook</td>\n",
       "      <td>Other Intel Processor</td>\n",
       "      <td>2</td>\n",
       "      <td>1.50</td>\n",
       "      <td>No</td>\n",
       "      <td>No</td>\n",
       "      <td>111.935204</td>\n",
       "      <td>0</td>\n",
       "      <td>0</td>\n",
       "      <td>Intel</td>\n",
       "      <td>Windows</td>\n",
       "    </tr>\n",
       "    <tr>\n",
       "      <th>1300</th>\n",
       "      <td>HP</td>\n",
       "      <td>Notebook</td>\n",
       "      <td>Intel Core i7</td>\n",
       "      <td>6</td>\n",
       "      <td>2.19</td>\n",
       "      <td>No</td>\n",
       "      <td>No</td>\n",
       "      <td>100.454670</td>\n",
       "      <td>1000</td>\n",
       "      <td>0</td>\n",
       "      <td>AMD</td>\n",
       "      <td>Windows</td>\n",
       "    </tr>\n",
       "    <tr>\n",
       "      <th>1301</th>\n",
       "      <td>Asus</td>\n",
       "      <td>Notebook</td>\n",
       "      <td>Other Intel Processor</td>\n",
       "      <td>4</td>\n",
       "      <td>2.20</td>\n",
       "      <td>No</td>\n",
       "      <td>No</td>\n",
       "      <td>100.454670</td>\n",
       "      <td>500</td>\n",
       "      <td>0</td>\n",
       "      <td>Intel</td>\n",
       "      <td>Windows</td>\n",
       "    </tr>\n",
       "  </tbody>\n",
       "</table>\n",
       "<p>1302 rows × 12 columns</p>\n",
       "</div>"
      ],
      "text/plain": [
       "     Company            TypeName                    Cpu  Ram  Weight  \\\n",
       "0      Apple           Ultrabook          Intel Core i5    8    1.37   \n",
       "1      Apple           Ultrabook          Intel Core i5    8    1.34   \n",
       "2         HP            Notebook          Intel Core i5    8    1.86   \n",
       "3      Apple           Ultrabook          Intel Core i7   16    1.83   \n",
       "4      Apple           Ultrabook          Intel Core i5    8    1.37   \n",
       "...      ...                 ...                    ...  ...     ...   \n",
       "1297  Lenovo  2 in 1 Convertible          Intel Core i7    4    1.80   \n",
       "1298  Lenovo  2 in 1 Convertible          Intel Core i7   16    1.30   \n",
       "1299  Lenovo            Notebook  Other Intel Processor    2    1.50   \n",
       "1300      HP            Notebook          Intel Core i7    6    2.19   \n",
       "1301    Asus            Notebook  Other Intel Processor    4    2.20   \n",
       "\n",
       "     Touchscreen  IPS         ppi   HDD  SSD Gpu brand        OS  \n",
       "0             No  Yes  226.983005     0  128     Intel       Mac  \n",
       "1             No   No  127.677940     0    0     Intel       Mac  \n",
       "2             No   No  141.211998     0  256     Intel  Other OS  \n",
       "3             No  Yes  220.534624     0  512       AMD       Mac  \n",
       "4             No  Yes  226.983005     0  256     Intel       Mac  \n",
       "...          ...  ...         ...   ...  ...       ...       ...  \n",
       "1297         Yes  Yes  157.350512     0  128     Intel   Windows  \n",
       "1298         Yes  Yes  276.053530     0  512     Intel   Windows  \n",
       "1299          No   No  111.935204     0    0     Intel   Windows  \n",
       "1300          No   No  100.454670  1000    0       AMD   Windows  \n",
       "1301          No   No  100.454670   500    0     Intel   Windows  \n",
       "\n",
       "[1302 rows x 12 columns]"
      ]
     },
     "execution_count": 69,
     "metadata": {},
     "output_type": "execute_result"
    }
   ],
   "source": [
    "x"
   ]
  },
  {
   "cell_type": "code",
   "execution_count": 70,
   "metadata": {},
   "outputs": [
    {
     "data": {
      "text/plain": [
       "0       11.175755\n",
       "1       10.776777\n",
       "2       10.329931\n",
       "3       11.814476\n",
       "4       11.473101\n",
       "          ...    \n",
       "1297    10.433899\n",
       "1298    11.288115\n",
       "1299     9.409283\n",
       "1300    10.614129\n",
       "1301     9.886358\n",
       "Name: Price, Length: 1302, dtype: float64"
      ]
     },
     "execution_count": 70,
     "metadata": {},
     "output_type": "execute_result"
    }
   ],
   "source": [
    "y"
   ]
  },
  {
   "cell_type": "code",
   "execution_count": 71,
   "metadata": {},
   "outputs": [],
   "source": [
    "from sklearn.compose import ColumnTransformer\n",
    "from sklearn.preprocessing import OneHotEncoder\n",
    "\n",
    "transform = ColumnTransformer(transformers=[\n",
    "    ('encode', OneHotEncoder(sparse=False, drop='first'), [0,1,2,5,6,10,11])\n",
    "], remainder='passthrough')\n",
    "\n",
    "x = transform.fit_transform(x)"
   ]
  },
  {
   "cell_type": "code",
   "execution_count": 72,
   "metadata": {},
   "outputs": [],
   "source": [
    "# Train Test Split\n",
    "from sklearn.model_selection import train_test_split as tts\n",
    "x_train, x_test, y_train, y_test = tts(x, y, test_size=0.1, random_state=0)"
   ]
  },
  {
   "cell_type": "code",
   "execution_count": 73,
   "metadata": {},
   "outputs": [],
   "source": [
    "from sklearn.linear_model import LinearRegression\n",
    "from sklearn.neighbors import KNeighborsRegressor\n",
    "from sklearn.svm import SVR\n",
    "from sklearn.tree import DecisionTreeRegressor\n",
    "from sklearn.ensemble import BaggingRegressor, RandomForestRegressor, GradientBoostingRegressor, AdaBoostRegressor, VotingRegressor\n",
    "\n",
    "from sklearn.metrics import r2_score,mean_absolute_error"
   ]
  },
  {
   "cell_type": "code",
   "execution_count": 74,
   "metadata": {},
   "outputs": [],
   "source": [
    "lin = LinearRegression()\n",
    "knn = KNeighborsRegressor()\n",
    "svr = SVR()\n",
    "tree = DecisionTreeRegressor(random_state=0)\n",
    "bag = BaggingRegressor(DecisionTreeRegressor(random_state=0), random_state=0)\n",
    "forest = RandomForestRegressor(random_state=0)\n",
    "grad = GradientBoostingRegressor(random_state=0)\n",
    "ada = AdaBoostRegressor(DecisionTreeRegressor(random_state=0),random_state=0)\n",
    "vote = VotingRegressor(estimators=[('l',lin), ('k',knn), ('s',svr)])"
   ]
  },
  {
   "cell_type": "code",
   "execution_count": 75,
   "metadata": {},
   "outputs": [],
   "source": [
    "z = np.empty(9)\n",
    "l = 0\n",
    "for i in (lin, knn, svr, tree, bag, forest, grad, ada, vote):\n",
    "    i.fit(x_train,y_train)\n",
    "    y_pred = i.predict(x_test)\n",
    "\n",
    "    z[l] = r2_score(y_test, y_pred)\n",
    "    l=l+1"
   ]
  },
  {
   "cell_type": "code",
   "execution_count": 76,
   "metadata": {},
   "outputs": [
    {
     "data": {
      "text/plain": [
       "array([0.77106863, 0.72577488, 0.60684981, 0.6841781 , 0.81235689,\n",
       "       0.83916558, 0.82840481, 0.82559968, 0.7798234 ])"
      ]
     },
     "execution_count": 76,
     "metadata": {},
     "output_type": "execute_result"
    }
   ],
   "source": [
    "z"
   ]
  },
  {
   "cell_type": "code",
   "execution_count": 77,
   "metadata": {},
   "outputs": [
    {
     "data": {
      "image/png": "[encoded data removed]",
      "text/plain": [
       "<Figure size 432x288 with 1 Axes>"
      ]
     },
     "metadata": {
      "needs_background": "light"
     },
     "output_type": "display_data"
    }
   ],
   "source": [
    "pd.Series(z, index=('lin', 'knn', 'svr', 'tree', 'bag', 'forest', 'grad', 'ada', 'vote')).plot(grid=True);"
   ]
  },
  {
   "cell_type": "markdown",
   "metadata": {},
   "source": [
    "Here, we can see Bagging, Random Forest, GradientBoost and AdaBoost models gives us high r2_scores."
   ]
  },
  {
   "cell_type": "markdown",
   "metadata": {},
   "source": [
    "So, we will tune parameters of this 4 models to get much better r2_score."
   ]
  },
  {
   "cell_type": "markdown",
   "metadata": {},
   "source": [
    "# Bagging parameter tunning"
   ]
  },
  {
   "cell_type": "code",
   "execution_count": 78,
   "metadata": {},
   "outputs": [],
   "source": [
    "Z = np.empty(30)\n",
    "l = 0\n",
    "for i in np.arange(20,620,20):\n",
    "    bag = BaggingRegressor(DecisionTreeRegressor(random_state=0), random_state=0, n_estimators = i, n_jobs=-1)\n",
    "    bag.fit(x_train, y_train)\n",
    "    y_pred = bag.predict(x_test)\n",
    "\n",
    "    Z[l] = r2_score(y_test, y_pred)\n",
    "    l = l+1"
   ]
  },
  {
   "cell_type": "code",
   "execution_count": 79,
   "metadata": {},
   "outputs": [
    {
     "data": {
      "image/png": "[encoded data removed]",
      "text/plain": [
       "<Figure size 432x288 with 1 Axes>"
      ]
     },
     "metadata": {
      "needs_background": "light"
     },
     "output_type": "display_data"
    }
   ],
   "source": [
    "pd.Series(Z, index=np.arange(20,620,20)).plot(grid= True);"
   ]
  },
  {
   "cell_type": "code",
   "execution_count": 80,
   "metadata": {},
   "outputs": [
    {
     "data": {
      "text/plain": [
       "array([0.83115774, 0.83952894, 0.84502025, 0.84085454, 0.83832189,\n",
       "       0.83968548, 0.84027003, 0.84248865, 0.84205026, 0.84178862,\n",
       "       0.84214535, 0.84266444, 0.84223064, 0.8421022 , 0.84164213,\n",
       "       0.84219923, 0.84217072, 0.84158932, 0.84157269, 0.84102159,\n",
       "       0.84173143, 0.84146984, 0.84173781, 0.84171532, 0.84221431,\n",
       "       0.84279747, 0.84269775, 0.84244945, 0.84285192, 0.84290403])"
      ]
     },
     "execution_count": 80,
     "metadata": {},
     "output_type": "execute_result"
    }
   ],
   "source": [
    "Z"
   ]
  },
  {
   "cell_type": "markdown",
   "metadata": {},
   "source": [
    "So, Bagging Regressor gives max r2_score at n_estimators = 60."
   ]
  },
  {
   "cell_type": "code",
   "execution_count": 81,
   "metadata": {},
   "outputs": [
    {
     "name": "stdout",
     "output_type": "stream",
     "text": [
      "R2 :  0.8450202459382845\n",
      "MAE :  0.17478140471068623\n"
     ]
    }
   ],
   "source": [
    "bag = BaggingRegressor(DecisionTreeRegressor(random_state=0), random_state=0, n_estimators = 60, n_jobs=-1)\n",
    "bag.fit(x_train, y_train)\n",
    "y_pred = bag.predict(x_test)\n",
    "\n",
    "print('R2 : ', r2_score(y_test, y_pred))\n",
    "print('MAE : ', mean_absolute_error(y_test, y_pred))"
   ]
  },
  {
   "cell_type": "markdown",
   "metadata": {},
   "source": [
    "# Random Forest parameter tunning"
   ]
  },
  {
   "cell_type": "code",
   "execution_count": 82,
   "metadata": {},
   "outputs": [],
   "source": [
    "Z = np.empty(90)\n",
    "l = 0\n",
    "for i in np.arange(20,320,20):\n",
    "    for j in (2,5,8,10,12,15):\n",
    "        forest = RandomForestRegressor(random_state=0, n_estimators = i, max_depth = j, n_jobs=-1)\n",
    "        forest.fit(x_train, y_train)\n",
    "        y_pred = forest.predict(x_test)\n",
    "\n",
    "        Z[l] = r2_score(y_test, y_pred)\n",
    "        l = l+1"
   ]
  },
  {
   "cell_type": "code",
   "execution_count": 83,
   "metadata": {},
   "outputs": [
    {
     "data": {
      "image/png": "[encoded data removed]",
      "text/plain": [
       "<Figure size 432x432 with 1 Axes>"
      ]
     },
     "metadata": {
      "needs_background": "light"
     },
     "output_type": "display_data"
    }
   ],
   "source": [
    "plt.figure(figsize=[6,6])\n",
    "pd.Series(Z, index=np.arange(1,91)).plot(grid= True);"
   ]
  },
  {
   "cell_type": "code",
   "execution_count": 84,
   "metadata": {},
   "outputs": [],
   "source": [
    "Z = np.empty(6)\n",
    "l = 0\n",
    "for i in (2,5,8,10,12,15):\n",
    "    forest = RandomForestRegressor(random_state=0, n_estimators = 60, max_depth = i, n_jobs=-1)\n",
    "    forest.fit(x_train, y_train)\n",
    "    y_pred = forest.predict(x_test)\n",
    "\n",
    "    Z[l] = r2_score(y_test, y_pred)\n",
    "    l = l+1"
   ]
  },
  {
   "cell_type": "code",
   "execution_count": 85,
   "metadata": {},
   "outputs": [
    {
     "data": {
      "text/plain": [
       "array([0.67143126, 0.80281301, 0.83265835, 0.83839743, 0.84371479,\n",
       "       0.84452346])"
      ]
     },
     "execution_count": 85,
     "metadata": {},
     "output_type": "execute_result"
    }
   ],
   "source": [
    "Z"
   ]
  },
  {
   "cell_type": "markdown",
   "metadata": {},
   "source": [
    "So, Random Forest Regressor gives max r2_score at n_estimators = 60 and max_depth = 15."
   ]
  },
  {
   "cell_type": "code",
   "execution_count": 86,
   "metadata": {},
   "outputs": [
    {
     "name": "stdout",
     "output_type": "stream",
     "text": [
      "R2 :  0.8445234625920306\n",
      "MAE :  0.1764094418518891\n"
     ]
    }
   ],
   "source": [
    "forest = RandomForestRegressor(random_state=0, n_estimators = 60, max_depth = 15, n_jobs=-1)\n",
    "forest.fit(x_train, y_train)\n",
    "y_pred = forest.predict(x_test)\n",
    "\n",
    "print('R2 : ', r2_score(y_test, y_pred))\n",
    "print('MAE : ', mean_absolute_error(y_test, y_pred))"
   ]
  },
  {
   "cell_type": "markdown",
   "metadata": {},
   "source": [
    "# AdaBoost Regressor parameter tunning"
   ]
  },
  {
   "cell_type": "code",
   "execution_count": 87,
   "metadata": {},
   "outputs": [],
   "source": [
    "Z = np.empty(105)\n",
    "l = 0\n",
    "for i in np.arange(20,320,20):\n",
    "    for j in np.arange(0.1,0.8,0.1):\n",
    "        ada = AdaBoostRegressor(DecisionTreeRegressor(random_state=0), n_estimators = i, learning_rate = j, random_state=0)\n",
    "        ada.fit(x_train, y_train)\n",
    "        y_pred = ada.predict(x_test)\n",
    "\n",
    "        Z[l] = r2_score(y_test, y_pred)\n",
    "        l = l+1"
   ]
  },
  {
   "cell_type": "code",
   "execution_count": 88,
   "metadata": {},
   "outputs": [
    {
     "data": {
      "image/png": "[encoded data removed]",
      "text/plain": [
       "<Figure size 432x288 with 1 Axes>"
      ]
     },
     "metadata": {
      "needs_background": "light"
     },
     "output_type": "display_data"
    }
   ],
   "source": [
    "pd.Series(Z, index=np.arange(1,106)).plot(grid= True);"
   ]
  },
  {
   "cell_type": "code",
   "execution_count": 89,
   "metadata": {},
   "outputs": [],
   "source": [
    "Z = np.empty(7)\n",
    "l = 0\n",
    "for i in np.arange(0.1,0.8,0.1):\n",
    "    ada = AdaBoostRegressor(DecisionTreeRegressor(random_state=0), n_estimators = 300, learning_rate = i, random_state=0)\n",
    "    ada.fit(x_train, y_train)\n",
    "    y_pred = ada.predict(x_test)\n",
    "\n",
    "    Z[l] = r2_score(y_test, y_pred)\n",
    "    l = l+1"
   ]
  },
  {
   "cell_type": "code",
   "execution_count": 90,
   "metadata": {},
   "outputs": [
    {
     "data": {
      "text/plain": [
       "array([0.83158088, 0.83655563, 0.83787513, 0.8368417 , 0.83938284,\n",
       "       0.84101916, 0.83639718])"
      ]
     },
     "execution_count": 90,
     "metadata": {},
     "output_type": "execute_result"
    }
   ],
   "source": [
    "Z"
   ]
  },
  {
   "cell_type": "markdown",
   "metadata": {},
   "source": [
    "So, AdaBoost Regressor gives max r2_score at n_estimators = 300 and learning_rate = 0.6."
   ]
  },
  {
   "cell_type": "code",
   "execution_count": 91,
   "metadata": {},
   "outputs": [
    {
     "name": "stdout",
     "output_type": "stream",
     "text": [
      "R2 :  0.8410191624418603\n",
      "MAE :  0.18481687099529495\n"
     ]
    }
   ],
   "source": [
    "ada = AdaBoostRegressor(DecisionTreeRegressor(random_state=0), n_estimators = 300, learning_rate = 0.6, random_state=0)\n",
    "ada.fit(x_train, y_train)\n",
    "y_pred = ada.predict(x_test)\n",
    "\n",
    "print('R2 : ', r2_score(y_test, y_pred))\n",
    "print('MAE : ', mean_absolute_error(y_test, y_pred))"
   ]
  },
  {
   "cell_type": "markdown",
   "metadata": {},
   "source": [
    "# GradientBoost Regressor parameter tunning"
   ]
  },
  {
   "cell_type": "code",
   "execution_count": 92,
   "metadata": {},
   "outputs": [],
   "source": [
    "Z = np.empty(108)\n",
    "l = 0\n",
    "for i in np.arange(50,350,50):\n",
    "    for j in np.arange(0.1,0.7,0.1):\n",
    "        for k in (5,10,15):  \n",
    "            grad = GradientBoostingRegressor(random_state=0, n_estimators = i, learning_rate = j, max_depth = k)\n",
    "            grad.fit(x_train, y_train)\n",
    "            y_pred = grad.predict(x_test)\n",
    "\n",
    "            Z[l] = r2_score(y_test, y_pred)\n",
    "            l = l+1"
   ]
  },
  {
   "cell_type": "code",
   "execution_count": 93,
   "metadata": {},
   "outputs": [
    {
     "data": {
      "image/png": "[encoded data removed]",
      "text/plain": [
       "<Figure size 432x288 with 1 Axes>"
      ]
     },
     "metadata": {
      "needs_background": "light"
     },
     "output_type": "display_data"
    }
   ],
   "source": [
    "pd.Series(Z, index=np.arange(1,109)).plot(grid= True);"
   ]
  },
  {
   "cell_type": "code",
   "execution_count": 94,
   "metadata": {},
   "outputs": [],
   "source": [
    "Z = np.empty(18)\n",
    "l = 0\n",
    "for i in np.arange(0.1,0.7,0.1):\n",
    "    for j in (5,10,15):  \n",
    "        grad = GradientBoostingRegressor(random_state=0, n_estimators = 50, learning_rate = i, max_depth = j)\n",
    "        grad.fit(x_train, y_train)\n",
    "        y_pred = grad.predict(x_test)\n",
    "\n",
    "        Z[l] = r2_score(y_test, y_pred)\n",
    "        l = l+1"
   ]
  },
  {
   "cell_type": "code",
   "execution_count": 95,
   "metadata": {},
   "outputs": [
    {
     "data": {
      "image/png": "[encoded data removed]",
      "text/plain": [
       "<Figure size 432x288 with 1 Axes>"
      ]
     },
     "metadata": {
      "needs_background": "light"
     },
     "output_type": "display_data"
    }
   ],
   "source": [
    "pd.Series(Z, index=np.arange(1,19)).plot(grid= True);"
   ]
  },
  {
   "cell_type": "code",
   "execution_count": 96,
   "metadata": {},
   "outputs": [],
   "source": [
    "Z = np.empty(3)\n",
    "l = 0\n",
    "for i in (5,10,15):  \n",
    "    grad = GradientBoostingRegressor(random_state=0, n_estimators = 50, learning_rate = 0.2, max_depth = i)\n",
    "    grad.fit(x_train, y_train)\n",
    "    y_pred = grad.predict(x_test)\n",
    "\n",
    "    Z[l] = r2_score(y_test, y_pred)\n",
    "    l = l+1"
   ]
  },
  {
   "cell_type": "code",
   "execution_count": 97,
   "metadata": {},
   "outputs": [
    {
     "data": {
      "text/plain": [
       "array([0.85356522, 0.80375911, 0.7562266 ])"
      ]
     },
     "execution_count": 97,
     "metadata": {},
     "output_type": "execute_result"
    }
   ],
   "source": [
    "Z"
   ]
  },
  {
   "cell_type": "markdown",
   "metadata": {},
   "source": [
    "So, Gradient Boost Regressor gives max r2_score at n_estimators = 50, learning_rate = 0.2 and max_depth = 5"
   ]
  },
  {
   "cell_type": "code",
   "execution_count": 98,
   "metadata": {},
   "outputs": [
    {
     "name": "stdout",
     "output_type": "stream",
     "text": [
      "R2 :  0.8535652154833921\n",
      "MAE :  0.1741314843221777\n"
     ]
    }
   ],
   "source": [
    "grad_model = GradientBoostingRegressor(random_state=0, n_estimators = 50, learning_rate = 0.2, max_depth = 5)\n",
    "grad_model.fit(x_train, y_train)\n",
    "y_pred = grad_model.predict(x_test)\n",
    "\n",
    "print('R2 : ', r2_score(y_test, y_pred))\n",
    "print('MAE : ', mean_absolute_error(y_test, y_pred))"
   ]
  },
  {
   "cell_type": "markdown",
   "metadata": {},
   "source": [
    "# GradientBoost Model gives maximum r2_score and minimun mean_absolute_error, after parameter tunning. So, I will use this model."
   ]
  },
  {
   "cell_type": "code",
   "execution_count": 99,
   "metadata": {},
   "outputs": [
    {
     "data": {
      "text/html": [
       "<div>\n",
       "<style scoped>\n",
       "    .dataframe tbody tr th:only-of-type {\n",
       "        vertical-align: middle;\n",
       "    }\n",
       "\n",
       "    .dataframe tbody tr th {\n",
       "        vertical-align: top;\n",
       "    }\n",
       "\n",
       "    .dataframe thead th {\n",
       "        text-align: right;\n",
       "    }\n",
       "</style>\n",
       "<table border=\"1\" class=\"dataframe\">\n",
       "  <thead>\n",
       "    <tr style=\"text-align: right;\">\n",
       "      <th></th>\n",
       "      <th>Company</th>\n",
       "      <th>TypeName</th>\n",
       "      <th>Cpu</th>\n",
       "      <th>Ram</th>\n",
       "      <th>Weight</th>\n",
       "      <th>Price</th>\n",
       "      <th>Touchscreen</th>\n",
       "      <th>IPS</th>\n",
       "      <th>ppi</th>\n",
       "      <th>HDD</th>\n",
       "      <th>SSD</th>\n",
       "      <th>Gpu brand</th>\n",
       "      <th>OS</th>\n",
       "    </tr>\n",
       "  </thead>\n",
       "  <tbody>\n",
       "    <tr>\n",
       "      <th>0</th>\n",
       "      <td>Apple</td>\n",
       "      <td>Ultrabook</td>\n",
       "      <td>Intel Core i5</td>\n",
       "      <td>8</td>\n",
       "      <td>1.37</td>\n",
       "      <td>71378.6832</td>\n",
       "      <td>No</td>\n",
       "      <td>Yes</td>\n",
       "      <td>226.983005</td>\n",
       "      <td>0</td>\n",
       "      <td>128</td>\n",
       "      <td>Intel</td>\n",
       "      <td>Mac</td>\n",
       "    </tr>\n",
       "    <tr>\n",
       "      <th>1</th>\n",
       "      <td>Apple</td>\n",
       "      <td>Ultrabook</td>\n",
       "      <td>Intel Core i5</td>\n",
       "      <td>8</td>\n",
       "      <td>1.34</td>\n",
       "      <td>47895.5232</td>\n",
       "      <td>No</td>\n",
       "      <td>No</td>\n",
       "      <td>127.677940</td>\n",
       "      <td>0</td>\n",
       "      <td>0</td>\n",
       "      <td>Intel</td>\n",
       "      <td>Mac</td>\n",
       "    </tr>\n",
       "    <tr>\n",
       "      <th>2</th>\n",
       "      <td>HP</td>\n",
       "      <td>Notebook</td>\n",
       "      <td>Intel Core i5</td>\n",
       "      <td>8</td>\n",
       "      <td>1.86</td>\n",
       "      <td>30636.0000</td>\n",
       "      <td>No</td>\n",
       "      <td>No</td>\n",
       "      <td>141.211998</td>\n",
       "      <td>0</td>\n",
       "      <td>256</td>\n",
       "      <td>Intel</td>\n",
       "      <td>Other OS</td>\n",
       "    </tr>\n",
       "    <tr>\n",
       "      <th>3</th>\n",
       "      <td>Apple</td>\n",
       "      <td>Ultrabook</td>\n",
       "      <td>Intel Core i7</td>\n",
       "      <td>16</td>\n",
       "      <td>1.83</td>\n",
       "      <td>135195.3360</td>\n",
       "      <td>No</td>\n",
       "      <td>Yes</td>\n",
       "      <td>220.534624</td>\n",
       "      <td>0</td>\n",
       "      <td>512</td>\n",
       "      <td>AMD</td>\n",
       "      <td>Mac</td>\n",
       "    </tr>\n",
       "    <tr>\n",
       "      <th>4</th>\n",
       "      <td>Apple</td>\n",
       "      <td>Ultrabook</td>\n",
       "      <td>Intel Core i5</td>\n",
       "      <td>8</td>\n",
       "      <td>1.37</td>\n",
       "      <td>96095.8080</td>\n",
       "      <td>No</td>\n",
       "      <td>Yes</td>\n",
       "      <td>226.983005</td>\n",
       "      <td>0</td>\n",
       "      <td>256</td>\n",
       "      <td>Intel</td>\n",
       "      <td>Mac</td>\n",
       "    </tr>\n",
       "    <tr>\n",
       "      <th>...</th>\n",
       "      <td>...</td>\n",
       "      <td>...</td>\n",
       "      <td>...</td>\n",
       "      <td>...</td>\n",
       "      <td>...</td>\n",
       "      <td>...</td>\n",
       "      <td>...</td>\n",
       "      <td>...</td>\n",
       "      <td>...</td>\n",
       "      <td>...</td>\n",
       "      <td>...</td>\n",
       "      <td>...</td>\n",
       "      <td>...</td>\n",
       "    </tr>\n",
       "    <tr>\n",
       "      <th>1297</th>\n",
       "      <td>Lenovo</td>\n",
       "      <td>2 in 1 Convertible</td>\n",
       "      <td>Intel Core i7</td>\n",
       "      <td>4</td>\n",
       "      <td>1.80</td>\n",
       "      <td>33992.6400</td>\n",
       "      <td>Yes</td>\n",
       "      <td>Yes</td>\n",
       "      <td>157.350512</td>\n",
       "      <td>0</td>\n",
       "      <td>128</td>\n",
       "      <td>Intel</td>\n",
       "      <td>Windows</td>\n",
       "    </tr>\n",
       "    <tr>\n",
       "      <th>1298</th>\n",
       "      <td>Lenovo</td>\n",
       "      <td>2 in 1 Convertible</td>\n",
       "      <td>Intel Core i7</td>\n",
       "      <td>16</td>\n",
       "      <td>1.30</td>\n",
       "      <td>79866.7200</td>\n",
       "      <td>Yes</td>\n",
       "      <td>Yes</td>\n",
       "      <td>276.053530</td>\n",
       "      <td>0</td>\n",
       "      <td>512</td>\n",
       "      <td>Intel</td>\n",
       "      <td>Windows</td>\n",
       "    </tr>\n",
       "    <tr>\n",
       "      <th>1299</th>\n",
       "      <td>Lenovo</td>\n",
       "      <td>Notebook</td>\n",
       "      <td>Other Intel Processor</td>\n",
       "      <td>2</td>\n",
       "      <td>1.50</td>\n",
       "      <td>12201.1200</td>\n",
       "      <td>No</td>\n",
       "      <td>No</td>\n",
       "      <td>111.935204</td>\n",
       "      <td>0</td>\n",
       "      <td>0</td>\n",
       "      <td>Intel</td>\n",
       "      <td>Windows</td>\n",
       "    </tr>\n",
       "    <tr>\n",
       "      <th>1300</th>\n",
       "      <td>HP</td>\n",
       "      <td>Notebook</td>\n",
       "      <td>Intel Core i7</td>\n",
       "      <td>6</td>\n",
       "      <td>2.19</td>\n",
       "      <td>40705.9200</td>\n",
       "      <td>No</td>\n",
       "      <td>No</td>\n",
       "      <td>100.454670</td>\n",
       "      <td>1000</td>\n",
       "      <td>0</td>\n",
       "      <td>AMD</td>\n",
       "      <td>Windows</td>\n",
       "    </tr>\n",
       "    <tr>\n",
       "      <th>1301</th>\n",
       "      <td>Asus</td>\n",
       "      <td>Notebook</td>\n",
       "      <td>Other Intel Processor</td>\n",
       "      <td>4</td>\n",
       "      <td>2.20</td>\n",
       "      <td>19660.3200</td>\n",
       "      <td>No</td>\n",
       "      <td>No</td>\n",
       "      <td>100.454670</td>\n",
       "      <td>500</td>\n",
       "      <td>0</td>\n",
       "      <td>Intel</td>\n",
       "      <td>Windows</td>\n",
       "    </tr>\n",
       "  </tbody>\n",
       "</table>\n",
       "<p>1302 rows × 13 columns</p>\n",
       "</div>"
      ],
      "text/plain": [
       "     Company            TypeName                    Cpu  Ram  Weight  \\\n",
       "0      Apple           Ultrabook          Intel Core i5    8    1.37   \n",
       "1      Apple           Ultrabook          Intel Core i5    8    1.34   \n",
       "2         HP            Notebook          Intel Core i5    8    1.86   \n",
       "3      Apple           Ultrabook          Intel Core i7   16    1.83   \n",
       "4      Apple           Ultrabook          Intel Core i5    8    1.37   \n",
       "...      ...                 ...                    ...  ...     ...   \n",
       "1297  Lenovo  2 in 1 Convertible          Intel Core i7    4    1.80   \n",
       "1298  Lenovo  2 in 1 Convertible          Intel Core i7   16    1.30   \n",
       "1299  Lenovo            Notebook  Other Intel Processor    2    1.50   \n",
       "1300      HP            Notebook          Intel Core i7    6    2.19   \n",
       "1301    Asus            Notebook  Other Intel Processor    4    2.20   \n",
       "\n",
       "            Price Touchscreen  IPS         ppi   HDD  SSD Gpu brand        OS  \n",
       "0      71378.6832          No  Yes  226.983005     0  128     Intel       Mac  \n",
       "1      47895.5232          No   No  127.677940     0    0     Intel       Mac  \n",
       "2      30636.0000          No   No  141.211998     0  256     Intel  Other OS  \n",
       "3     135195.3360          No  Yes  220.534624     0  512       AMD       Mac  \n",
       "4      96095.8080          No  Yes  226.983005     0  256     Intel       Mac  \n",
       "...           ...         ...  ...         ...   ...  ...       ...       ...  \n",
       "1297   33992.6400         Yes  Yes  157.350512     0  128     Intel   Windows  \n",
       "1298   79866.7200         Yes  Yes  276.053530     0  512     Intel   Windows  \n",
       "1299   12201.1200          No   No  111.935204     0    0     Intel   Windows  \n",
       "1300   40705.9200          No   No  100.454670  1000    0       AMD   Windows  \n",
       "1301   19660.3200          No   No  100.454670   500    0     Intel   Windows  \n",
       "\n",
       "[1302 rows x 13 columns]"
      ]
     },
     "execution_count": 99,
     "metadata": {},
     "output_type": "execute_result"
    }
   ],
   "source": [
    "laptop"
   ]
  },
  {
   "cell_type": "code",
   "execution_count": 100,
   "metadata": {},
   "outputs": [],
   "source": [
    "x = laptop.drop(columns=['Price'])\n",
    "y = np.log(laptop.Price)"
   ]
  },
  {
   "cell_type": "code",
   "execution_count": 101,
   "metadata": {},
   "outputs": [],
   "source": [
    "x_train, x_test, y_train, y_test = tts(x, y, test_size=0.1, random_state=0)"
   ]
  },
  {
   "cell_type": "code",
   "execution_count": 102,
   "metadata": {},
   "outputs": [
    {
     "name": "stdout",
     "output_type": "stream",
     "text": [
      "R2 score 0.9413512210122441\n",
      "MAE 0.1114436323334201\n"
     ]
    }
   ],
   "source": [
    "from sklearn.pipeline import Pipeline\n",
    "\n",
    "step1 = ColumnTransformer(transformers=[\n",
    "    ('col_tnf',OneHotEncoder(sparse=False, drop='first'), [0,1,2,5,6,10,11])\n",
    "],remainder='passthrough')\n",
    "\n",
    "step2 = GradientBoostingRegressor(learning_rate=0.2, max_depth=5, n_estimators=50, random_state=0)\n",
    "\n",
    "pipe = Pipeline([\n",
    "    ('step1',step1),\n",
    "    ('step2',step2)\n",
    "])\n",
    "\n",
    "pipe.fit(x,y)\n",
    "\n",
    "y_pred = pipe.predict(x_test)\n",
    "\n",
    "print('R2 score',r2_score(y_test,y_pred))\n",
    "print('MAE',mean_absolute_error(y_test,y_pred))"
   ]
  },
  {
   "cell_type": "code",
   "execution_count": 103,
   "metadata": {},
   "outputs": [],
   "source": [
    "import pickle\n",
    "\n",
    "pickle.dump(laptop,open('laptop_preprocessed.pkl','wb'))\n",
    "pickle.dump(pipe,open('pipe.pkl','wb'))"
   ]
  }
 ],
 "metadata": {
  "interpreter": {
   "hash": "cf94d32e2ccfd884866dfe877a49bf2fcc57c5e685c611b5e4f469c80b9e1b82"
  },
  "kernelspec": {
   "display_name": "Python 3.9.7 64-bit ('base': conda)",
   "language": "python",
   "name": "python3"
  },
  "language_info": {
   "codemirror_mode": {
    "name": "ipython",
    "version": 3
   },
   "file_extension": ".py",
   "mimetype": "text/x-python",
   "name": "python",
   "nbconvert_exporter": "python",
   "pygments_lexer": "ipython3",
   "version": "3.9.7"
  },
  "orig_nbformat": 4
 },
 "nbformat": 4,
 "nbformat_minor": 2
}
